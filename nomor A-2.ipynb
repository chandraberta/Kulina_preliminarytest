{
  "nbformat": 4,
  "nbformat_minor": 0,
  "metadata": {
    "colab": {
      "name": "Kulina test number 2.ipynb",
      "provenance": [],
      "collapsed_sections": []
    },
    "kernelspec": {
      "name": "python3",
      "display_name": "Python 3"
    }
  },
  "cells": [
    {
      "cell_type": "code",
      "metadata": {
        "id": "2e0eQo40EZw_"
      },
      "source": [
        "import numpy as np"
      ],
      "execution_count": 5,
      "outputs": []
    },
    {
      "cell_type": "code",
      "metadata": {
        "colab": {
          "base_uri": "https://localhost:8080/"
        },
        "id": "7KgiB4IdoqfD",
        "outputId": "41871e84-a1ff-4eda-8097-667a0b0ba7c6"
      },
      "source": [
        "#input jumlah kaos kaki\r\n",
        "jumlah = int(input(\"Berapa biji kaos kaki yang ada?\"))"
      ],
      "execution_count": 6,
      "outputs": [
        {
          "output_type": "stream",
          "text": [
            "Berapa biji kaos kaki yang ada?9\n"
          ],
          "name": "stdout"
        }
      ]
    },
    {
      "cell_type": "code",
      "metadata": {
        "colab": {
          "base_uri": "https://localhost:8080/"
        },
        "id": "z7dpjWSUMcnC",
        "outputId": "50ea7cdb-afc1-4cd6-82b5-63b0bd0cb740"
      },
      "source": [
        "#input array warna kaos kaki\r\n",
        "kaos_kaki = [int(x) for x in input(\"Masukkan kode warna kaos kaki:\").split()]"
      ],
      "execution_count": 7,
      "outputs": [
        {
          "output_type": "stream",
          "text": [
            "Masukkan kode warna kaos kaki:1 2 2 1 1 3 5 1 2\n"
          ],
          "name": "stdout"
        }
      ]
    },
    {
      "cell_type": "code",
      "metadata": {
        "colab": {
          "base_uri": "https://localhost:8080/"
        },
        "id": "YDPCxHEdpEvt",
        "outputId": "54fe1154-10d8-4249-9850-855c08a186af"
      },
      "source": [
        "#validasi\r\n",
        "if(len(kaos_kaki)==jumlah):\r\n",
        "  unique, counts = np.unique(kaos_kaki, return_counts=True)\r\n",
        "  dict(zip(unique, counts))\r\n",
        "\r\n",
        "  pair = np.floor(np.divide(counts,2))\r\n",
        "  print(\"Pasang kaos kaki yang dimiliki : \",np.sum(pair),\" pasang.\")\r\n",
        "else:\r\n",
        "  print(\"Jumlah tidak sesuai. Anda memasukkan \", len(kaos_kaki),\" biji kaos kaki\")"
      ],
      "execution_count": 8,
      "outputs": [
        {
          "output_type": "stream",
          "text": [
            "Pasang kaos kaki yang dimiliki :  3.0  pasang.\n"
          ],
          "name": "stdout"
        }
      ]
    },
    {
      "cell_type": "code",
      "metadata": {
        "id": "ZniXsehHmcw1"
      },
      "source": [
        ""
      ],
      "execution_count": null,
      "outputs": []
    }
  ]
}