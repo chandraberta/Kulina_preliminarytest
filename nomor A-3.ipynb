{
  "nbformat": 4,
  "nbformat_minor": 0,
  "metadata": {
    "colab": {
      "name": "Kulina test number 3.ipynb",
      "provenance": [],
      "collapsed_sections": []
    },
    "kernelspec": {
      "name": "python3",
      "display_name": "Python 3"
    }
  },
  "cells": [
    {
      "cell_type": "code",
      "metadata": {
        "id": "MJdaaTGefC6U"
      },
      "source": [
        "import pandas as pd\r\n",
        "import datetime\r\n",
        "from datetime import timedelta, date"
      ],
      "execution_count": 1,
      "outputs": []
    },
    {
      "cell_type": "code",
      "metadata": {
        "id": "OKE21cD0xGq5"
      },
      "source": [
        "ID = [1,2,3]\r\n",
        "Fullname = [\"Stan Smith\", \"Nikola Griffin\",\"Ruby Moore\"]\r\n",
        "Gender = [\"Male\",\"Male\",\"Female\"]\r\n",
        "DateOfBirth = [date(1960,2,10), date(1999,12,20), date(2002,3,3)]"
      ],
      "execution_count": 2,
      "outputs": []
    },
    {
      "cell_type": "code",
      "metadata": {
        "colab": {
          "base_uri": "https://localhost:8080/"
        },
        "id": "taKaoqVYfIFD",
        "outputId": "011c6a16-bc7c-4642-d00f-7f6ffe0119e0"
      },
      "source": [
        "data = {\r\n",
        "    \"ID\" : ID,\r\n",
        "    \"FullName\" : Fullname,\r\n",
        "    \"Gender\" : Gender,\r\n",
        "    \"DateOfBirth\" : DateOfBirth\r\n",
        "}\r\n",
        "data"
      ],
      "execution_count": 3,
      "outputs": [
        {
          "output_type": "execute_result",
          "data": {
            "text/plain": [
              "{'DateOfBirth': [datetime.date(1960, 2, 10),\n",
              "  datetime.date(1999, 12, 20),\n",
              "  datetime.date(2002, 3, 3)],\n",
              " 'FullName': ['Stan Smith', 'Nikola Griffin', 'Ruby Moore'],\n",
              " 'Gender': ['Male', 'Male', 'Female'],\n",
              " 'ID': [1, 2, 3]}"
            ]
          },
          "metadata": {
            "tags": []
          },
          "execution_count": 3
        }
      ]
    },
    {
      "cell_type": "code",
      "metadata": {
        "colab": {
          "base_uri": "https://localhost:8080/",
          "height": 142
        },
        "id": "FtbNDZxw1IyX",
        "outputId": "86775665-bc6f-46c8-d0c2-db2b29a4c1c9"
      },
      "source": [
        "df = pd.DataFrame(data)\r\n",
        "df"
      ],
      "execution_count": 4,
      "outputs": [
        {
          "output_type": "execute_result",
          "data": {
            "text/html": [
              "<div>\n",
              "<style scoped>\n",
              "    .dataframe tbody tr th:only-of-type {\n",
              "        vertical-align: middle;\n",
              "    }\n",
              "\n",
              "    .dataframe tbody tr th {\n",
              "        vertical-align: top;\n",
              "    }\n",
              "\n",
              "    .dataframe thead th {\n",
              "        text-align: right;\n",
              "    }\n",
              "</style>\n",
              "<table border=\"1\" class=\"dataframe\">\n",
              "  <thead>\n",
              "    <tr style=\"text-align: right;\">\n",
              "      <th></th>\n",
              "      <th>ID</th>\n",
              "      <th>FullName</th>\n",
              "      <th>Gender</th>\n",
              "      <th>DateOfBirth</th>\n",
              "    </tr>\n",
              "  </thead>\n",
              "  <tbody>\n",
              "    <tr>\n",
              "      <th>0</th>\n",
              "      <td>1</td>\n",
              "      <td>Stan Smith</td>\n",
              "      <td>Male</td>\n",
              "      <td>1960-02-10</td>\n",
              "    </tr>\n",
              "    <tr>\n",
              "      <th>1</th>\n",
              "      <td>2</td>\n",
              "      <td>Nikola Griffin</td>\n",
              "      <td>Male</td>\n",
              "      <td>1999-12-20</td>\n",
              "    </tr>\n",
              "    <tr>\n",
              "      <th>2</th>\n",
              "      <td>3</td>\n",
              "      <td>Ruby Moore</td>\n",
              "      <td>Female</td>\n",
              "      <td>2002-03-03</td>\n",
              "    </tr>\n",
              "  </tbody>\n",
              "</table>\n",
              "</div>"
            ],
            "text/plain": [
              "   ID        FullName  Gender DateOfBirth\n",
              "0   1      Stan Smith    Male  1960-02-10\n",
              "1   2  Nikola Griffin    Male  1999-12-20\n",
              "2   3      Ruby Moore  Female  2002-03-03"
            ]
          },
          "metadata": {
            "tags": []
          },
          "execution_count": 4
        }
      ]
    },
    {
      "cell_type": "code",
      "metadata": {
        "id": "CNskDNTq56Hc"
      },
      "source": [
        "def from_dob_to_age(born):\r\n",
        "    today = datetime.date.today()\r\n",
        "    return today.year - born.year - ((today.month, today.day) < (born.month, born.day))"
      ],
      "execution_count": 5,
      "outputs": []
    },
    {
      "cell_type": "code",
      "metadata": {
        "id": "QA7pmaJO6Y88"
      },
      "source": [
        "age = df['DateOfBirth'].apply(lambda x: from_dob_to_age(x))"
      ],
      "execution_count": 6,
      "outputs": []
    },
    {
      "cell_type": "code",
      "metadata": {
        "id": "-Gt3n0vY8l0W"
      },
      "source": [
        "nrow = len(df)\r\n",
        "AgeGroup = []\r\n",
        "for i in range(0,nrow):\r\n",
        "  if (age[i]>13 and age[i]<19):\r\n",
        "    AgeGroup.append(\"Teen\")\r\n",
        "  elif (age[i]>=19 and age[i]<60):\r\n",
        "    AgeGroup.append(\"Adult\")\r\n",
        "  elif (age[i]>=60):\r\n",
        "    AgeGroup.append(\"Senior Adult\")\r\n",
        "  else:\r\n",
        "    AgeGroup.append(\"N/A\")"
      ],
      "execution_count": 7,
      "outputs": []
    },
    {
      "cell_type": "code",
      "metadata": {
        "id": "VhiXnGjtD0rX"
      },
      "source": [
        "df[\"AgeGroup\"] = AgeGroup"
      ],
      "execution_count": 9,
      "outputs": []
    },
    {
      "cell_type": "code",
      "metadata": {
        "colab": {
          "base_uri": "https://localhost:8080/",
          "height": 142
        },
        "id": "DwcIuY74nOcV",
        "outputId": "59fb571d-7c37-4134-fcf0-7fa60e41a003"
      },
      "source": [
        "df"
      ],
      "execution_count": 10,
      "outputs": [
        {
          "output_type": "execute_result",
          "data": {
            "text/html": [
              "<div>\n",
              "<style scoped>\n",
              "    .dataframe tbody tr th:only-of-type {\n",
              "        vertical-align: middle;\n",
              "    }\n",
              "\n",
              "    .dataframe tbody tr th {\n",
              "        vertical-align: top;\n",
              "    }\n",
              "\n",
              "    .dataframe thead th {\n",
              "        text-align: right;\n",
              "    }\n",
              "</style>\n",
              "<table border=\"1\" class=\"dataframe\">\n",
              "  <thead>\n",
              "    <tr style=\"text-align: right;\">\n",
              "      <th></th>\n",
              "      <th>ID</th>\n",
              "      <th>FullName</th>\n",
              "      <th>Gender</th>\n",
              "      <th>DateOfBirth</th>\n",
              "      <th>AgeGroup</th>\n",
              "    </tr>\n",
              "  </thead>\n",
              "  <tbody>\n",
              "    <tr>\n",
              "      <th>0</th>\n",
              "      <td>1</td>\n",
              "      <td>Stan Smith</td>\n",
              "      <td>Male</td>\n",
              "      <td>1960-02-10</td>\n",
              "      <td>Senior Adult</td>\n",
              "    </tr>\n",
              "    <tr>\n",
              "      <th>1</th>\n",
              "      <td>2</td>\n",
              "      <td>Nikola Griffin</td>\n",
              "      <td>Male</td>\n",
              "      <td>1999-12-20</td>\n",
              "      <td>Adult</td>\n",
              "    </tr>\n",
              "    <tr>\n",
              "      <th>2</th>\n",
              "      <td>3</td>\n",
              "      <td>Ruby Moore</td>\n",
              "      <td>Female</td>\n",
              "      <td>2002-03-03</td>\n",
              "      <td>Teen</td>\n",
              "    </tr>\n",
              "  </tbody>\n",
              "</table>\n",
              "</div>"
            ],
            "text/plain": [
              "   ID        FullName  Gender DateOfBirth      AgeGroup\n",
              "0   1      Stan Smith    Male  1960-02-10  Senior Adult\n",
              "1   2  Nikola Griffin    Male  1999-12-20         Adult\n",
              "2   3      Ruby Moore  Female  2002-03-03          Teen"
            ]
          },
          "metadata": {
            "tags": []
          },
          "execution_count": 10
        }
      ]
    },
    {
      "cell_type": "code",
      "metadata": {
        "id": "IRHpql0Gna7G"
      },
      "source": [
        ""
      ],
      "execution_count": null,
      "outputs": []
    }
  ]
}